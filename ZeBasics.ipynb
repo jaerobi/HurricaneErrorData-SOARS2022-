{
 "cells": [
  {
   "cell_type": "markdown",
   "id": "a09423e1-1309-45c3-820f-c36eeacb2d9d",
   "metadata": {
    "tags": []
   },
   "source": [
    "# Hello World & 1 Hour Python YouTube Tutorial"
   ]
  },
  {
   "cell_type": "code",
   "execution_count": null,
   "id": "f3c7c6c7-9e84-4f09-acf4-e72311a02840",
   "metadata": {},
   "outputs": [],
   "source": [
    "print(\"hello world\")"
   ]
  },
  {
   "cell_type": "code",
   "execution_count": null,
   "id": "875e8fdc-80de-44d1-b59e-7d0e3afd4308",
   "metadata": {},
   "outputs": [],
   "source": [
    "#this is a note to myself."
   ]
  },
  {
   "cell_type": "code",
   "execution_count": null,
   "id": "b7a76f7e-29ca-4977-9253-c5de8d1cd5ff",
   "metadata": {},
   "outputs": [],
   "source": [
    "y, o= 18, 100\n",
    "print(y, o)"
   ]
  },
  {
   "cell_type": "code",
   "execution_count": null,
   "id": "16a352b7-77bd-4e6e-ad28-04d4e879c94a",
   "metadata": {},
   "outputs": [],
   "source": [
    "#Exercise: function where you give it two numbers and it outputs a list of all even numbers between the two\n",
    "even= 2, 4, 6 , 8, 10\n",
    "odd=1, 3, 5, 7, 9"
   ]
  },
  {
   "cell_type": "code",
   "execution_count": null,
   "id": "a26e8432-7572-4616-987f-3a70544683ae",
   "metadata": {},
   "outputs": [],
   "source": [
    "#Exercise: check in patient John Smith. He is 20. New Patient\n",
    "age= 20\n",
    "first_name= \"John\"\n",
    "last_name= \"Smith\"\n",
    "New_Patient = True \n",
    "print(age, first_name, last_name, New_Patient)"
   ]
  },
  {
   "cell_type": "code",
   "execution_count": null,
   "id": "55a6d3dc-4489-489c-9dfd-c605a077454d",
   "metadata": {},
   "outputs": [],
   "source": [
    "input(\"What is your age? \") #input function allows for a reply"
   ]
  },
  {
   "cell_type": "code",
   "execution_count": 1,
   "id": "0ef107cc-3315-425a-acb9-dec0fa8cdf74",
   "metadata": {},
   "outputs": [
    {
     "name": "stdin",
     "output_type": "stream",
     "text": [
      "What is your age?  20\n"
     ]
    },
    {
     "name": "stdout",
     "output_type": "stream",
     "text": [
      "I'm also 20!\n"
     ]
    }
   ],
   "source": [
    "age = input(\"What is your age? \") #making the answer to the input function a variable\n",
    "print( \"I'm also \" + age + \"!\") #called string concatonation "
   ]
  },
  {
   "cell_type": "code",
   "execution_count": null,
   "id": "e93db4ac-6e82-4a01-a23e-703c4bab5073",
   "metadata": {},
   "outputs": [],
   "source": [
    "#Exercise: Type conversion\n",
    "First= 10\n",
    "Second=30\n",
    "sum= int(First) + int(Second) #int makes the variable (which reads like a word, with \"\") into a number or integer\n",
    "print(sum)                     ##dont forget to print what you want to see!! "
   ]
  },
  {
   "cell_type": "code",
   "execution_count": null,
   "id": "101e08d9-e8eb-4a92-9dca-71fa1c35b5b7",
   "metadata": {},
   "outputs": [],
   "source": [
    "#making a calculator others can use\n",
    "first= input(\"First Number: \")\n",
    "second= input(\"Second Number: \")\n",
    "sum= float(first) + float(second) ###if using decimals on one or both, you need to have BOTH be \"float\" functions\n",
    "                                #### or if using just whole numbers they BOTH need to be integers \"int\"\n",
    "print(\"Sum: \" + str(sum))       ####you have to convert the float or integer back into a string. "
   ]
  },
  {
   "cell_type": "code",
   "execution_count": null,
   "id": "61c30b30-e9e4-4016-a7c7-191deeb5774b",
   "metadata": {},
   "outputs": [],
   "source": [
    "print(\"5\" in first) "
   ]
  },
  {
   "cell_type": "code",
   "execution_count": null,
   "id": "4673a7f6-a1cf-4867-92d3-3d376ac7f814",
   "metadata": {},
   "outputs": [],
   "source": [
    "#Arithmatic Operations. Basically that the computer uses PEMDAS. \n",
    "##^ so: / is floating point number division, // is integer division, % modulas operator (the remainer division, and ** to the power of) \n",
    "#There is also Comparison Opereator (<, >, >=, <=, == equality operator, != not equality operator) \n",
    "\n",
    "price = 5\n",
    "print(price>10 and price<30)\n",
    "print(price>10 or price<30)\n",
    "print(not price>10 and price<30) ##the not operator just inverses the original answer. so the first waws false now this is true"
   ]
  },
  {
   "cell_type": "code",
   "execution_count": null,
   "id": "6f629e84-ec23-4862-b4ed-02df5974ec0d",
   "metadata": {},
   "outputs": [],
   "source": [
    "temp = int(input(\"What is the temp? \"))\n",
    "if temp>110:\n",
    "    print (\"Guess we're in hell\")       #if statement\n",
    "elif temp > 30:                          \n",
    "    print (\"It's a hot day\")\n",
    "    print(\"Have a glass of lemonade\")\n",
    "elif temp> 20:                          #another if statement after the first\n",
    "    print(\"Is ight out\")\n",
    "else:                                   #if none of the if statemetnes are true\n",
    "    print(\"Welp\")\n",
    "#try to make this box of code interactive (with an input function) - DONE :)"
   ]
  },
  {
   "cell_type": "markdown",
   "id": "0e31357e-3af3-4cbe-ac40-8c136ba0b04a",
   "metadata": {
    "tags": []
   },
   "source": [
    "### Exercise - asks you weight and then if its in kilo or lb. if in one then does math to output the other\n",
    "#^COME BACK TO THIS - on 36min YouTube vid\n",
    "int(input(\"Weight: \")) ##input where you put in a number for weight, hugged in an integer changing function\n",
    "weight=int(input(\"Weight: \"))\n",
    "input(\"Kg or lb: \")\n",
    "if K:\n",
    "    print(0.453592/ weight)"
   ]
  },
  {
   "cell_type": "code",
   "execution_count": null,
   "id": "246a99f9-1264-49f6-8e21-e0febdfc54a6",
   "metadata": {},
   "outputs": [],
   "source": [
    "#While loops\n",
    "i=1\n",
    "while i---:  ##while loop runs a sort of \"if\" statement, until the condition is no longer true\n",
    "    print(i) ##You can do math functions in print. Also multiplying strigns shown below\n",
    "    i=i+1\n",
    "while i<10:\n",
    "    print(i * '*')\n",
    "    i=i+1"
   ]
  },
  {
   "cell_type": "code",
   "execution_count": 1,
   "id": "6fd5dc38-7ebe-4133-9d13-6e0349cf4231",
   "metadata": {},
   "outputs": [],
   "source": [
    "import pandas as pd"
   ]
  },
  {
   "cell_type": "markdown",
   "id": "ad1b215b-4b36-4df8-9319-4e1f205933be",
   "metadata": {
    "jp-MarkdownHeadingCollapsed": true,
    "tags": []
   },
   "source": [
    "# 6.3.22 Comp. Workshop"
   ]
  },
  {
   "cell_type": "markdown",
   "id": "60d7af21-0b75-43f5-a78a-6ca51a7d3a3b",
   "metadata": {},
   "source": [
    "SOARS Workshop 2 \n",
    "Lists are (collection of objects): \n",
    "    set          -can't have repeating numbers)\n",
    "    dictionaries -key and values, keys don't repeat but values can)\n",
    "    arrays       -list of numbers\n",
    "    tuples       -an uneditable list\n",
    "More collection of objects:\n",
    "    trees\n",
    "    queues\n",
    "    stacks\n",
    "    files"
   ]
  },
  {
   "cell_type": "code",
   "execution_count": 9,
   "id": "758470b5-ba0e-4785-ab12-e8780e26b0ec",
   "metadata": {},
   "outputs": [],
   "source": [
    "#Loop is important\n",
    "# for object in collection_of_objects:\n",
    "        #do something"
   ]
  },
  {
   "cell_type": "code",
   "execution_count": 12,
   "id": "876c5404-8b91-4e8c-b975-3d83f0c42283",
   "metadata": {},
   "outputs": [
    {
     "name": "stdout",
     "output_type": "stream",
     "text": [
      "1\n",
      "2\n",
      "3\n"
     ]
    }
   ],
   "source": [
    "l=[1,2,3]\n",
    "for i in l:  #take l as the input and every time you go through the loop, i acts as an iterator \n",
    "    print(i)"
   ]
  },
  {
   "cell_type": "code",
   "execution_count": 15,
   "id": "67a4f3ad-bec6-407a-9539-e4e526c30a97",
   "metadata": {},
   "outputs": [],
   "source": [
    "import pandas as pd"
   ]
  },
  {
   "cell_type": "code",
   "execution_count": 38,
   "id": "bcb67d3b-a169-4005-b34d-96be60adc341",
   "metadata": {},
   "outputs": [],
   "source": [
    "df = pd.read_csv(\"https://raw.githubusercontent.com/gianluca2410/pokemon/main/pokemon.csv\")"
   ]
  },
  {
   "cell_type": "code",
   "execution_count": 39,
   "id": "634ddba3-b8ce-4a5f-9c58-d9c90ff61b89",
   "metadata": {},
   "outputs": [
    {
     "data": {
      "text/plain": [
       "count    801.000000\n",
       "mean       0.996255\n",
       "std        0.597248\n",
       "min        0.250000\n",
       "25%        0.500000\n",
       "50%        1.000000\n",
       "75%        1.000000\n",
       "max        4.000000\n",
       "Name: against_bug, dtype: float64"
      ]
     },
     "execution_count": 39,
     "metadata": {},
     "output_type": "execute_result"
    }
   ],
   "source": [
    "df['against_bug'].describe()"
   ]
  },
  {
   "cell_type": "code",
   "execution_count": 41,
   "id": "fdb9bf67-f814-47f5-bcfd-78730f7667c5",
   "metadata": {},
   "outputs": [
    {
     "data": {
      "text/html": [
       "<div>\n",
       "<style scoped>\n",
       "    .dataframe tbody tr th:only-of-type {\n",
       "        vertical-align: middle;\n",
       "    }\n",
       "\n",
       "    .dataframe tbody tr th {\n",
       "        vertical-align: top;\n",
       "    }\n",
       "\n",
       "    .dataframe thead th {\n",
       "        text-align: right;\n",
       "    }\n",
       "</style>\n",
       "<table border=\"1\" class=\"dataframe\">\n",
       "  <thead>\n",
       "    <tr style=\"text-align: right;\">\n",
       "      <th></th>\n",
       "      <th>against_bug</th>\n",
       "      <th>against_dragon</th>\n",
       "    </tr>\n",
       "  </thead>\n",
       "  <tbody>\n",
       "    <tr>\n",
       "      <th>count</th>\n",
       "      <td>801.000000</td>\n",
       "      <td>801.000000</td>\n",
       "    </tr>\n",
       "    <tr>\n",
       "      <th>mean</th>\n",
       "      <td>0.996255</td>\n",
       "      <td>0.968789</td>\n",
       "    </tr>\n",
       "    <tr>\n",
       "      <th>std</th>\n",
       "      <td>0.597248</td>\n",
       "      <td>0.353058</td>\n",
       "    </tr>\n",
       "    <tr>\n",
       "      <th>min</th>\n",
       "      <td>0.250000</td>\n",
       "      <td>0.000000</td>\n",
       "    </tr>\n",
       "    <tr>\n",
       "      <th>25%</th>\n",
       "      <td>0.500000</td>\n",
       "      <td>1.000000</td>\n",
       "    </tr>\n",
       "    <tr>\n",
       "      <th>50%</th>\n",
       "      <td>1.000000</td>\n",
       "      <td>1.000000</td>\n",
       "    </tr>\n",
       "    <tr>\n",
       "      <th>75%</th>\n",
       "      <td>1.000000</td>\n",
       "      <td>1.000000</td>\n",
       "    </tr>\n",
       "    <tr>\n",
       "      <th>max</th>\n",
       "      <td>4.000000</td>\n",
       "      <td>2.000000</td>\n",
       "    </tr>\n",
       "  </tbody>\n",
       "</table>\n",
       "</div>"
      ],
      "text/plain": [
       "       against_bug  against_dragon\n",
       "count   801.000000      801.000000\n",
       "mean      0.996255        0.968789\n",
       "std       0.597248        0.353058\n",
       "min       0.250000        0.000000\n",
       "25%       0.500000        1.000000\n",
       "50%       1.000000        1.000000\n",
       "75%       1.000000        1.000000\n",
       "max       4.000000        2.000000"
      ]
     },
     "execution_count": 41,
     "metadata": {},
     "output_type": "execute_result"
    }
   ],
   "source": [
    "df[['against_bug','against_dragon']].describe() #gives all of the statistics stuff"
   ]
  },
  {
   "cell_type": "code",
   "execution_count": 42,
   "id": "01231bdb-c3e5-4918-895e-fe5d2a2bd59a",
   "metadata": {},
   "outputs": [
    {
     "data": {
      "text/plain": [
       "Index(['abilities', 'against_bug', 'against_dark', 'against_dragon',\n",
       "       'against_electric', 'against_fairy', 'against_fight', 'against_fire',\n",
       "       'against_flying', 'against_ghost', 'against_grass', 'against_ground',\n",
       "       'against_ice', 'against_normal', 'against_poison', 'against_psychic',\n",
       "       'against_rock', 'against_steel', 'against_water', 'attack',\n",
       "       'base_egg_steps', 'base_happiness', 'base_total', 'capture_rate',\n",
       "       'classfication', 'defense', 'experience_growth', 'height_m', 'hp',\n",
       "       'japanese_name', 'name', 'percentage_male', 'pokedex_number',\n",
       "       'sp_attack', 'sp_defense', 'speed', 'type1', 'type2', 'weight_kg',\n",
       "       'generation', 'is_legendary'],\n",
       "      dtype='object')"
      ]
     },
     "execution_count": 42,
     "metadata": {},
     "output_type": "execute_result"
    }
   ],
   "source": [
    "df.columns #shows the columns"
   ]
  },
  {
   "cell_type": "code",
   "execution_count": 45,
   "id": "648121d7-f00d-4f37-a466-3f91079743e2",
   "metadata": {},
   "outputs": [
    {
     "data": {
      "text/plain": [
       "0      ['Overgrow', 'Chlorophyll']\n",
       "1      ['Overgrow', 'Chlorophyll']\n",
       "2      ['Overgrow', 'Chlorophyll']\n",
       "3         ['Blaze', 'Solar Power']\n",
       "4         ['Blaze', 'Solar Power']\n",
       "                  ...             \n",
       "796                ['Beast Boost']\n",
       "797                ['Beast Boost']\n",
       "798                ['Beast Boost']\n",
       "799                ['Prism Armor']\n",
       "800                 ['Soul-Heart']\n",
       "Name: abilities, Length: 801, dtype: object"
      ]
     },
     "execution_count": 45,
     "metadata": {},
     "output_type": "execute_result"
    }
   ],
   "source": [
    "df['abilities'] #shows the rows in that column"
   ]
  },
  {
   "cell_type": "code",
   "execution_count": 52,
   "id": "78110721-4971-4289-9f41-431df188bbcc",
   "metadata": {},
   "outputs": [
    {
     "data": {
      "text/html": [
       "<div>\n",
       "<style scoped>\n",
       "    .dataframe tbody tr th:only-of-type {\n",
       "        vertical-align: middle;\n",
       "    }\n",
       "\n",
       "    .dataframe tbody tr th {\n",
       "        vertical-align: top;\n",
       "    }\n",
       "\n",
       "    .dataframe thead th {\n",
       "        text-align: right;\n",
       "    }\n",
       "</style>\n",
       "<table border=\"1\" class=\"dataframe\">\n",
       "  <thead>\n",
       "    <tr style=\"text-align: right;\">\n",
       "      <th></th>\n",
       "      <th>generation</th>\n",
       "      <th>is_legendary</th>\n",
       "    </tr>\n",
       "  </thead>\n",
       "  <tbody>\n",
       "    <tr>\n",
       "      <th>0</th>\n",
       "      <td>1</td>\n",
       "      <td>0</td>\n",
       "    </tr>\n",
       "    <tr>\n",
       "      <th>1</th>\n",
       "      <td>1</td>\n",
       "      <td>0</td>\n",
       "    </tr>\n",
       "    <tr>\n",
       "      <th>2</th>\n",
       "      <td>1</td>\n",
       "      <td>0</td>\n",
       "    </tr>\n",
       "    <tr>\n",
       "      <th>3</th>\n",
       "      <td>1</td>\n",
       "      <td>0</td>\n",
       "    </tr>\n",
       "    <tr>\n",
       "      <th>4</th>\n",
       "      <td>1</td>\n",
       "      <td>0</td>\n",
       "    </tr>\n",
       "    <tr>\n",
       "      <th>...</th>\n",
       "      <td>...</td>\n",
       "      <td>...</td>\n",
       "    </tr>\n",
       "    <tr>\n",
       "      <th>796</th>\n",
       "      <td>7</td>\n",
       "      <td>1</td>\n",
       "    </tr>\n",
       "    <tr>\n",
       "      <th>797</th>\n",
       "      <td>7</td>\n",
       "      <td>1</td>\n",
       "    </tr>\n",
       "    <tr>\n",
       "      <th>798</th>\n",
       "      <td>7</td>\n",
       "      <td>1</td>\n",
       "    </tr>\n",
       "    <tr>\n",
       "      <th>799</th>\n",
       "      <td>7</td>\n",
       "      <td>1</td>\n",
       "    </tr>\n",
       "    <tr>\n",
       "      <th>800</th>\n",
       "      <td>7</td>\n",
       "      <td>1</td>\n",
       "    </tr>\n",
       "  </tbody>\n",
       "</table>\n",
       "<p>801 rows × 2 columns</p>\n",
       "</div>"
      ],
      "text/plain": [
       "     generation  is_legendary\n",
       "0             1             0\n",
       "1             1             0\n",
       "2             1             0\n",
       "3             1             0\n",
       "4             1             0\n",
       "..          ...           ...\n",
       "796           7             1\n",
       "797           7             1\n",
       "798           7             1\n",
       "799           7             1\n",
       "800           7             1\n",
       "\n",
       "[801 rows x 2 columns]"
      ]
     },
     "execution_count": 52,
     "metadata": {},
     "output_type": "execute_result"
    }
   ],
   "source": [
    "cols= ['generation','is_legendary']  #to get the columns i want and to put them into a list\n",
    "df_subset=df[cols]\n",
    "df_subset    ####calling the label that has the specific columns"
   ]
  },
  {
   "cell_type": "code",
   "execution_count": 53,
   "id": "09a692da-195a-4b7b-910a-f2144c231277",
   "metadata": {},
   "outputs": [
    {
     "data": {
      "text/html": [
       "<div>\n",
       "<style scoped>\n",
       "    .dataframe tbody tr th:only-of-type {\n",
       "        vertical-align: middle;\n",
       "    }\n",
       "\n",
       "    .dataframe tbody tr th {\n",
       "        vertical-align: top;\n",
       "    }\n",
       "\n",
       "    .dataframe thead th {\n",
       "        text-align: right;\n",
       "    }\n",
       "</style>\n",
       "<table border=\"1\" class=\"dataframe\">\n",
       "  <thead>\n",
       "    <tr style=\"text-align: right;\">\n",
       "      <th></th>\n",
       "      <th>generation</th>\n",
       "      <th>is_legendary</th>\n",
       "    </tr>\n",
       "  </thead>\n",
       "  <tbody>\n",
       "    <tr>\n",
       "      <th>generation</th>\n",
       "      <td>1.000000</td>\n",
       "      <td>0.139029</td>\n",
       "    </tr>\n",
       "    <tr>\n",
       "      <th>is_legendary</th>\n",
       "      <td>0.139029</td>\n",
       "      <td>1.000000</td>\n",
       "    </tr>\n",
       "  </tbody>\n",
       "</table>\n",
       "</div>"
      ],
      "text/plain": [
       "              generation  is_legendary\n",
       "generation      1.000000      0.139029\n",
       "is_legendary    0.139029      1.000000"
      ]
     },
     "execution_count": 53,
     "metadata": {},
     "output_type": "execute_result"
    }
   ],
   "source": [
    "df_subset.corr() #shows the correlation between the columns \n",
    "# - there are three types of correlations but pearson is what is usually used"
   ]
  },
  {
   "cell_type": "markdown",
   "id": "e4c858a1-588a-49ff-a998-f08d564275d5",
   "metadata": {
    "jp-MarkdownHeadingCollapsed": true,
    "tags": []
   },
   "source": [
    "# 6.10.22"
   ]
  },
  {
   "cell_type": "code",
   "execution_count": 21,
   "id": "ace62f02-bbb7-4d73-9b34-acd3cd24fe03",
   "metadata": {},
   "outputs": [],
   "source": [
    "#dictionary uses {} not ()\n",
    "\n",
    "data_dictionary ={'6.6.22':\n",
    "{ \n",
    "        \"conditions\":\"Rainy\",\n",
    "        \"temp\": 32,\n",
    "        \"humidity\": 89 \n",
    "}\n",
    "     } "
   ]
  },
  {
   "cell_type": "code",
   "execution_count": null,
   "id": "b7b83313-02c0-4eb5-a429-db5294407788",
   "metadata": {},
   "outputs": [],
   "source": [
    "#Opening a csv file easy peasy\n",
    "\n",
    "with open(\"compas-scores-two-years.csv\") as jail_data:\n",
    "    for x in jail_data:\n",
    "            print(x)"
   ]
  },
  {
   "cell_type": "code",
   "execution_count": null,
   "id": "9c3601e7-f05f-4852-894a-db59245ddfa2",
   "metadata": {},
   "outputs": [],
   "source": [
    "with open(\"compas-scores-two-years.csv\") as jail_data:\n",
    "    for x in jail_data:\n",
    "        if \"mark\" in x:\n",
    "            print(x)"
   ]
  },
  {
   "cell_type": "code",
   "execution_count": null,
   "id": "2a8e6037-3a42-4546-a949-2fec32481ba2",
   "metadata": {},
   "outputs": [],
   "source": [
    "with open(\"compas-scores-two-years.csv\") as jail_data:\n",
    "    for x in jail_data:\n",
    "        if \"mark\" in x:\n",
    "            print(x)\n",
    "            print(x.split(','))\n",
    "            break"
   ]
  },
  {
   "cell_type": "code",
   "execution_count": 56,
   "id": "d93968a6-6bd3-4f3c-9679-996347c65e0c",
   "metadata": {},
   "outputs": [
    {
     "ename": "IndentationError",
     "evalue": "unexpected indent (1026867458.py, line 5)",
     "output_type": "error",
     "traceback": [
      "\u001b[0;36m  File \u001b[0;32m\"/glade/scratch/jrobinson/ipykernel_30303/1026867458.py\"\u001b[0;36m, line \u001b[0;32m5\u001b[0m\n\u001b[0;31m    print(x.split(','))\u001b[0m\n\u001b[0m    ^\u001b[0m\n\u001b[0;31mIndentationError\u001b[0m\u001b[0;31m:\u001b[0m unexpected indent\n"
     ]
    }
   ],
   "source": [
    "##Doesnt work\n",
    "\n",
    "with open(\"compas-scores-two-years.csv\") as jail_data:\n",
    "    for x in jail_data:                                #x is a string so python pritns all of the strings in the file, which is why the return is the whole file\n",
    "        if \"mark\" in x and count < count_end:\n",
    "            print(x)\n",
    "            print(x.split(','))\n",
    "            \n",
    "            count =count+1"
   ]
  },
  {
   "cell_type": "code",
   "execution_count": 33,
   "id": "6d51ef9e-55bb-40ce-b584-a63e414e367e",
   "metadata": {},
   "outputs": [],
   "source": [
    "sent= \"the street is gold\""
   ]
  },
  {
   "cell_type": "code",
   "execution_count": 34,
   "id": "b5dea086-bf12-429a-971a-621f77c808c4",
   "metadata": {},
   "outputs": [
    {
     "data": {
      "text/plain": [
       "['the', 'street', 'is', 'gold']"
      ]
     },
     "execution_count": 34,
     "metadata": {},
     "output_type": "execute_result"
    }
   ],
   "source": [
    "sent. split()"
   ]
  },
  {
   "cell_type": "code",
   "execution_count": 35,
   "id": "adc343a5-49db-43ce-81d9-dfdfdbaf6880",
   "metadata": {},
   "outputs": [
    {
     "data": {
      "text/plain": [
       "['the street is gold']"
      ]
     },
     "execution_count": 35,
     "metadata": {},
     "output_type": "execute_result"
    }
   ],
   "source": [
    "sent. split(\",\")"
   ]
  },
  {
   "cell_type": "code",
   "execution_count": 36,
   "id": "07c557ce-4e7a-40e6-8259-100788fd6784",
   "metadata": {},
   "outputs": [
    {
     "data": {
      "text/plain": [
       "['th', ' str', '', 't is gold']"
      ]
     },
     "execution_count": 36,
     "metadata": {},
     "output_type": "execute_result"
    }
   ],
   "source": [
    "sent. split(\"e\")"
   ]
  },
  {
   "cell_type": "code",
   "execution_count": 74,
   "id": "5ecfc454-9b78-4a90-889a-c9d8928cc6bf",
   "metadata": {},
   "outputs": [
    {
     "data": {
      "text/plain": [
       "'J!a!e'"
      ]
     },
     "execution_count": 74,
     "metadata": {},
     "output_type": "execute_result"
    }
   ],
   "source": [
    "alist= ['J','a','e']\n",
    "\"!\".join(alist) # The join function can only split with strings which is characters with '' or \"\""
   ]
  },
  {
   "cell_type": "code",
   "execution_count": 59,
   "id": "ffb8623e-8e43-4f8c-983a-a7c7e3b859c2",
   "metadata": {},
   "outputs": [
    {
     "name": "stdout",
     "output_type": "stream",
     "text": [
      "a\n",
      "b\n",
      "c\n"
     ]
    }
   ],
   "source": [
    "for c in \"abc\":  #because c is a string, python prints all of the strings in the list\n",
    "    print(c)"
   ]
  },
  {
   "cell_type": "code",
   "execution_count": 62,
   "id": "94bd103a-e978-446f-a5e7-23c9f6dd621d",
   "metadata": {},
   "outputs": [
    {
     "data": {
      "text/plain": [
       "[['a'], ['b'], ['c']]"
      ]
     },
     "execution_count": 62,
     "metadata": {},
     "output_type": "execute_result"
    }
   ],
   "source": [
    "[list(c) for c in \"abc\"] #This is a list of lists and its confusing but later you might understand"
   ]
  },
  {
   "cell_type": "code",
   "execution_count": 70,
   "id": "88fea09f-b821-4bb3-83e7-218e22ecf8a6",
   "metadata": {},
   "outputs": [],
   "source": [
    "mylist = [ ] #an empty list\n",
    "for c in \"abc\": \n",
    "    mylist.append(c)"
   ]
  },
  {
   "cell_type": "code",
   "execution_count": 71,
   "id": "3ac47bd5-5db3-4108-9767-0897afa16e30",
   "metadata": {},
   "outputs": [
    {
     "data": {
      "text/plain": [
       "'c'"
      ]
     },
     "execution_count": 71,
     "metadata": {},
     "output_type": "execute_result"
    }
   ],
   "source": [
    "mylist[-1] # it goes to the end of the list. Only really works for a collection of objects \n",
    "#But if you go 4 or -4 then it will give an error saying list index out of range because there's only 3"
   ]
  },
  {
   "cell_type": "code",
   "execution_count": 72,
   "id": "0b39975e-79ba-4fa1-94a6-699b5318befa",
   "metadata": {},
   "outputs": [
    {
     "data": {
      "text/plain": [
       "3"
      ]
     },
     "execution_count": 72,
     "metadata": {},
     "output_type": "execute_result"
    }
   ],
   "source": [
    "len(mylist) #the length of the list"
   ]
  },
  {
   "cell_type": "markdown",
   "id": "91ba0fb4-a8cd-431c-afb2-370d07da6998",
   "metadata": {
    "tags": []
   },
   "source": [
    "# 6.15.22"
   ]
  },
  {
   "cell_type": "code",
   "execution_count": null,
   "id": "fd97a51b-344d-4adf-9c49-7003252d0226",
   "metadata": {},
   "outputs": [],
   "source": [
    "#Series is on ecolumn - dataframe is multiple \n",
    "\n",
    "#Pandas plot -> figsize changes the width, height, and dpi of the figure when exporting\n",
    "## In plot() figsize(30,120) or (width, height, dpi) \n",
    "## Rot= rotation for axis labels.\n",
    "## In plot(rot=45) so the labels are slanted\n",
    "#^ plot(rot=45, figsize(3,12,300))\n",
    "## In plot() xticks= columnname . Gives the plot what column to put on the x axis if it isnt the correct one\n",
    "\n",
    "# Control forward slash / makes and unmakes a comment (select then cntrl +/)\n",
    "\n"
   ]
  },
  {
   "cell_type": "markdown",
   "id": "14e6df94-fbd3-41a1-9d5a-d4470db7fd82",
   "metadata": {
    "jp-MarkdownHeadingCollapsed": true,
    "tags": []
   },
   "source": [
    "df['Units'].astype(str) \n",
    "to assign the dtype: int64 (which is 64 bit integer column or data) or dtype:float 64 (which is a 64 bit float column) into a string type instead of integer \n"
   ]
  },
  {
   "cell_type": "code",
   "execution_count": 1,
   "id": "75fe867e-6761-444e-ad75-38242ab602ac",
   "metadata": {},
   "outputs": [],
   "source": [
    "from datetime import datetime #datetime is a module library -- import the datetime class or object\n",
    "from datetime import timedelta #timedelta is an object or class\n"
   ]
  },
  {
   "cell_type": "code",
   "execution_count": 2,
   "id": "dbc11c01-8b86-4868-89ec-ac8a35333818",
   "metadata": {},
   "outputs": [
    {
     "name": "stdout",
     "output_type": "stream",
     "text": [
      "range(0, 10)\n"
     ]
    }
   ],
   "source": [
    "i=range(0,10)\n",
    "print(i)"
   ]
  },
  {
   "cell_type": "code",
   "execution_count": 4,
   "id": "02044928-e90c-454d-b03e-22277ef99285",
   "metadata": {},
   "outputs": [
    {
     "name": "stdout",
     "output_type": "stream",
     "text": [
      "0\n",
      "1\n",
      "2\n",
      "3\n",
      "4\n",
      "5\n",
      "6\n",
      "7\n",
      "8\n",
      "9\n"
     ]
    }
   ],
   "source": [
    "for n in range(0,10):\n",
    "    print(n)"
   ]
  },
  {
   "cell_type": "code",
   "execution_count": 11,
   "id": "81f413ef-4a70-45db-81ce-1f8da1b46e47",
   "metadata": {},
   "outputs": [
    {
     "data": {
      "text/plain": [
       "[[1, 2], [3, 4]]"
      ]
     },
     "execution_count": 11,
     "metadata": {},
     "output_type": "execute_result"
    }
   ],
   "source": [
    "arr=[[1,2],[3,4]]\n",
    "arr"
   ]
  },
  {
   "cell_type": "code",
   "execution_count": 13,
   "id": "020f9aa3-a07d-4fde-96c4-4f6b10c3f945",
   "metadata": {},
   "outputs": [
    {
     "ename": "SyntaxError",
     "evalue": "invalid syntax (2268637441.py, line 2)",
     "output_type": "error",
     "traceback": [
      "\u001b[0;36m  File \u001b[0;32m\"/glade/scratch/jrobinson/ipykernel_224876/2268637441.py\"\u001b[0;36m, line \u001b[0;32m2\u001b[0m\n\u001b[0;31m    df\u001b[0m\n\u001b[0m     ^\u001b[0m\n\u001b[0;31mSyntaxError\u001b[0m\u001b[0;31m:\u001b[0m invalid syntax\n"
     ]
    }
   ],
   "source": [
    "df=pd.DataFrame[[[1,2],[3,4]]\n",
    "df"
   ]
  },
  {
   "cell_type": "code",
   "execution_count": 15,
   "id": "f58087f7-bf6f-4272-8c90-cb6596a44405",
   "metadata": {},
   "outputs": [
    {
     "data": {
      "text/plain": [
       "1"
      ]
     },
     "execution_count": 15,
     "metadata": {},
     "output_type": "execute_result"
    }
   ],
   "source": [
    "# can do comma underscore for if there are not enough values on one side and too many on the other side\n",
    "#ex:\n",
    "a,b=[1,2]\n",
    "a"
   ]
  },
  {
   "cell_type": "code",
   "execution_count": 16,
   "id": "42a29d3f-fc32-4030-988d-01ae27db116e",
   "metadata": {},
   "outputs": [
    {
     "data": {
      "text/plain": [
       "2"
      ]
     },
     "execution_count": 16,
     "metadata": {},
     "output_type": "execute_result"
    }
   ],
   "source": [
    "b"
   ]
  },
  {
   "cell_type": "code",
   "execution_count": 18,
   "id": "6f988a83-0fa7-4bfb-aeb2-fa556e5d4b79",
   "metadata": {},
   "outputs": [
    {
     "data": {
      "text/plain": [
       "3"
      ]
     },
     "execution_count": 18,
     "metadata": {},
     "output_type": "execute_result"
    }
   ],
   "source": [
    "a,b,_=[1,2,3]\n",
    "_"
   ]
  },
  {
   "cell_type": "code",
   "execution_count": null,
   "id": "e615f4f6-a38a-4fb7-a75e-a59fc369aeea",
   "metadata": {},
   "outputs": [],
   "source": [
    "df.query('Boopcolumn == 3 & (Boopcolumntwo == 3 | Boopcolumntwo = 9)') # | is an or"
   ]
  },
  {
   "cell_type": "markdown",
   "id": "7b459837-9c72-4214-8d54-6a5d6b4dacc5",
   "metadata": {},
   "source": [
    "Change the cell type to markdown:\n",
    "    The analysis continues in the next notebook [link name](./name_of_file.ipynb)\n",
    "\n",
    "*Then in the next notebook mention \"This is the next notebook that analysis...stemming off from goal 1 (the last notebook\")*\n",
    "\n",
    "Click this cell to see how it is done!"
   ]
  }
 ],
 "metadata": {
  "kernelspec": {
   "display_name": "NPL (conda)",
   "language": "python",
   "name": "npl-conda"
  },
  "language_info": {
   "codemirror_mode": {
    "name": "ipython",
    "version": 3
   },
   "file_extension": ".py",
   "mimetype": "text/x-python",
   "name": "python",
   "nbconvert_exporter": "python",
   "pygments_lexer": "ipython3",
   "version": "3.7.12"
  }
 },
 "nbformat": 4,
 "nbformat_minor": 5
}
